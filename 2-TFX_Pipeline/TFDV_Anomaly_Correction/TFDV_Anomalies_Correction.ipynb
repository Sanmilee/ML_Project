{
 "cells": [
  {
   "cell_type": "markdown",
   "id": "29e1801c",
   "metadata": {},
   "source": [
    "## TFX Data Validation \n",
    "\n",
    "This illustaates the use of TFX for data validation. The TFX pipeline enables a logical workflow of \n",
    "component sequences for scalable, high-performance machine learning data validation. TFX components run on apache beam as the execution engines\n",
    "***\n",
    "\n",
    "The following TFX components are included in this pipeline:\n",
    "- #### <font color='blue'> StatisticsGen </font>: calculates statistics for the dataset.\n",
    "- #### <font color='blue'> SchemaGen </font>: examines the statistics and creates a data schema.\n",
    "- #### <font color='blue'> ExampleValidator </font>: looks for anomalies and missing values in the dataset.\n"
   ]
  },
  {
   "cell_type": "code",
   "execution_count": 1,
   "id": "6a43861f",
   "metadata": {},
   "outputs": [
    {
     "name": "stdout",
     "output_type": "stream",
     "text": [
      "TF version: 2.8.0\n",
      "TFDV version: 1.7.0\n"
     ]
    }
   ],
   "source": [
    "import os\n",
    "import urllib\n",
    "import zipfile\n",
    "import tempfile \n",
    "import pandas as pd\n",
    "import tensorflow as tf\n",
    "import tensorflow_data_validation as tfdv\n",
    "\n",
    "\n",
    "print('TF version:', tf.__version__)\n",
    "print('TFDV version:', tfdv.version.__version__)"
   ]
  },
  {
   "cell_type": "code",
   "execution_count": 2,
   "id": "dcdbbe80",
   "metadata": {},
   "outputs": [],
   "source": [
    "DATA_DIR = os.path.join('data')                                # data directory\n",
    "TRAIN_DATA = os.path.join(DATA_DIR, 'train', 'data.csv')       # train data \n",
    "EVAL_DATA = os.path.join(DATA_DIR, 'eval', 'data.csv')         # eval data\n",
    "SERVING_DATA = os.path.join(DATA_DIR, 'serving', 'data.csv')   # serving data\n",
    "OUTPUT_DIR = os.path.join('chicago_taxi_output')               # write out schema file"
   ]
  },
  {
   "cell_type": "markdown",
   "id": "ef311590",
   "metadata": {},
   "source": [
    "#### View data with Pandas"
   ]
  },
  {
   "cell_type": "code",
   "execution_count": 4,
   "id": "e4778fc0",
   "metadata": {},
   "outputs": [
    {
     "data": {
      "text/html": [
       "<div>\n",
       "<style scoped>\n",
       "    .dataframe tbody tr th:only-of-type {\n",
       "        vertical-align: middle;\n",
       "    }\n",
       "\n",
       "    .dataframe tbody tr th {\n",
       "        vertical-align: top;\n",
       "    }\n",
       "\n",
       "    .dataframe thead th {\n",
       "        text-align: right;\n",
       "    }\n",
       "</style>\n",
       "<table border=\"1\" class=\"dataframe\">\n",
       "  <thead>\n",
       "    <tr style=\"text-align: right;\">\n",
       "      <th></th>\n",
       "      <th>pickup_community_area</th>\n",
       "      <th>fare</th>\n",
       "      <th>trip_start_month</th>\n",
       "      <th>trip_start_hour</th>\n",
       "      <th>trip_start_day</th>\n",
       "      <th>trip_start_timestamp</th>\n",
       "      <th>pickup_latitude</th>\n",
       "      <th>pickup_longitude</th>\n",
       "      <th>dropoff_latitude</th>\n",
       "      <th>dropoff_longitude</th>\n",
       "      <th>trip_miles</th>\n",
       "      <th>pickup_census_tract</th>\n",
       "      <th>dropoff_census_tract</th>\n",
       "      <th>payment_type</th>\n",
       "      <th>company</th>\n",
       "      <th>trip_seconds</th>\n",
       "      <th>dropoff_community_area</th>\n",
       "      <th>tips</th>\n",
       "    </tr>\n",
       "  </thead>\n",
       "  <tbody>\n",
       "    <tr>\n",
       "      <th>0</th>\n",
       "      <td>22</td>\n",
       "      <td>12.85</td>\n",
       "      <td>3</td>\n",
       "      <td>11</td>\n",
       "      <td>7</td>\n",
       "      <td>1393673400</td>\n",
       "      <td>41.920452</td>\n",
       "      <td>-87.679955</td>\n",
       "      <td>41.877406</td>\n",
       "      <td>-87.621972</td>\n",
       "      <td>0.0</td>\n",
       "      <td>NaN</td>\n",
       "      <td>1.703132e+10</td>\n",
       "      <td>Cash</td>\n",
       "      <td>Taxi Affiliation Services</td>\n",
       "      <td>720</td>\n",
       "      <td>32.0</td>\n",
       "      <td>0.0</td>\n",
       "    </tr>\n",
       "    <tr>\n",
       "      <th>1</th>\n",
       "      <td>22</td>\n",
       "      <td>5.45</td>\n",
       "      <td>8</td>\n",
       "      <td>21</td>\n",
       "      <td>7</td>\n",
       "      <td>1439675100</td>\n",
       "      <td>41.920452</td>\n",
       "      <td>-87.679955</td>\n",
       "      <td>41.906771</td>\n",
       "      <td>-87.681025</td>\n",
       "      <td>1.2</td>\n",
       "      <td>NaN</td>\n",
       "      <td>1.703124e+10</td>\n",
       "      <td>Cash</td>\n",
       "      <td>Dispatch Taxi Affiliation</td>\n",
       "      <td>360</td>\n",
       "      <td>24.0</td>\n",
       "      <td>0.0</td>\n",
       "    </tr>\n",
       "    <tr>\n",
       "      <th>2</th>\n",
       "      <td>33</td>\n",
       "      <td>0.00</td>\n",
       "      <td>5</td>\n",
       "      <td>10</td>\n",
       "      <td>4</td>\n",
       "      <td>1432118700</td>\n",
       "      <td>41.849247</td>\n",
       "      <td>-87.624135</td>\n",
       "      <td>41.849247</td>\n",
       "      <td>-87.624135</td>\n",
       "      <td>0.0</td>\n",
       "      <td>NaN</td>\n",
       "      <td>1.703184e+10</td>\n",
       "      <td>Cash</td>\n",
       "      <td>Northwest Management LLC</td>\n",
       "      <td>0</td>\n",
       "      <td>33.0</td>\n",
       "      <td>0.0</td>\n",
       "    </tr>\n",
       "    <tr>\n",
       "      <th>3</th>\n",
       "      <td>33</td>\n",
       "      <td>11.05</td>\n",
       "      <td>3</td>\n",
       "      <td>15</td>\n",
       "      <td>1</td>\n",
       "      <td>1427037300</td>\n",
       "      <td>41.849247</td>\n",
       "      <td>-87.624135</td>\n",
       "      <td>41.892508</td>\n",
       "      <td>-87.626215</td>\n",
       "      <td>0.0</td>\n",
       "      <td>NaN</td>\n",
       "      <td>1.703108e+10</td>\n",
       "      <td>Cash</td>\n",
       "      <td>Taxi Affiliation Services</td>\n",
       "      <td>900</td>\n",
       "      <td>8.0</td>\n",
       "      <td>0.0</td>\n",
       "    </tr>\n",
       "    <tr>\n",
       "      <th>4</th>\n",
       "      <td>33</td>\n",
       "      <td>11.05</td>\n",
       "      <td>5</td>\n",
       "      <td>15</td>\n",
       "      <td>6</td>\n",
       "      <td>1401464700</td>\n",
       "      <td>41.849247</td>\n",
       "      <td>-87.624135</td>\n",
       "      <td>41.892508</td>\n",
       "      <td>-87.626215</td>\n",
       "      <td>3.2</td>\n",
       "      <td>NaN</td>\n",
       "      <td>1.703108e+10</td>\n",
       "      <td>Cash</td>\n",
       "      <td>NaN</td>\n",
       "      <td>960</td>\n",
       "      <td>8.0</td>\n",
       "      <td>0.0</td>\n",
       "    </tr>\n",
       "  </tbody>\n",
       "</table>\n",
       "</div>"
      ],
      "text/plain": [
       "   pickup_community_area   fare  trip_start_month  trip_start_hour  \\\n",
       "0                     22  12.85                 3               11   \n",
       "1                     22   5.45                 8               21   \n",
       "2                     33   0.00                 5               10   \n",
       "3                     33  11.05                 3               15   \n",
       "4                     33  11.05                 5               15   \n",
       "\n",
       "   trip_start_day  trip_start_timestamp  pickup_latitude  pickup_longitude  \\\n",
       "0               7            1393673400        41.920452        -87.679955   \n",
       "1               7            1439675100        41.920452        -87.679955   \n",
       "2               4            1432118700        41.849247        -87.624135   \n",
       "3               1            1427037300        41.849247        -87.624135   \n",
       "4               6            1401464700        41.849247        -87.624135   \n",
       "\n",
       "   dropoff_latitude  dropoff_longitude  trip_miles  pickup_census_tract  \\\n",
       "0         41.877406         -87.621972         0.0                  NaN   \n",
       "1         41.906771         -87.681025         1.2                  NaN   \n",
       "2         41.849247         -87.624135         0.0                  NaN   \n",
       "3         41.892508         -87.626215         0.0                  NaN   \n",
       "4         41.892508         -87.626215         3.2                  NaN   \n",
       "\n",
       "   dropoff_census_tract payment_type                    company  trip_seconds  \\\n",
       "0          1.703132e+10         Cash  Taxi Affiliation Services           720   \n",
       "1          1.703124e+10         Cash  Dispatch Taxi Affiliation           360   \n",
       "2          1.703184e+10         Cash   Northwest Management LLC             0   \n",
       "3          1.703108e+10         Cash  Taxi Affiliation Services           900   \n",
       "4          1.703108e+10         Cash                        NaN           960   \n",
       "\n",
       "   dropoff_community_area  tips  \n",
       "0                    32.0   0.0  \n",
       "1                    24.0   0.0  \n",
       "2                    33.0   0.0  \n",
       "3                     8.0   0.0  \n",
       "4                     8.0   0.0  "
      ]
     },
     "execution_count": 4,
     "metadata": {},
     "output_type": "execute_result"
    }
   ],
   "source": [
    "df = pd.read_csv(TRAIN_DATA)\n",
    "\n",
    "df.head()"
   ]
  },
  {
   "cell_type": "markdown",
   "id": "2f64b060",
   "metadata": {},
   "source": [
    "### <font color='blue'> StatisticsGen </font>\n",
    "- The StatisticsGen TFX pipeline component generates features statistics over both training and serving data\n",
    "- The resulting statistics is used by other downstream pipeline components. \n",
    "\n"
   ]
  },
  {
   "cell_type": "code",
   "execution_count": 5,
   "id": "6e60ecde",
   "metadata": {
    "scrolled": true
   },
   "outputs": [
    {
     "data": {
      "application/javascript": [
       "\n",
       "        if (typeof window.interactive_beam_jquery == 'undefined') {\n",
       "          var jqueryScript = document.createElement('script');\n",
       "          jqueryScript.src = 'https://code.jquery.com/jquery-3.4.1.slim.min.js';\n",
       "          jqueryScript.type = 'text/javascript';\n",
       "          jqueryScript.onload = function() {\n",
       "            var datatableScript = document.createElement('script');\n",
       "            datatableScript.src = 'https://cdn.datatables.net/1.10.20/js/jquery.dataTables.min.js';\n",
       "            datatableScript.type = 'text/javascript';\n",
       "            datatableScript.onload = function() {\n",
       "              window.interactive_beam_jquery = jQuery.noConflict(true);\n",
       "              window.interactive_beam_jquery(document).ready(function($){\n",
       "                \n",
       "              });\n",
       "            }\n",
       "            document.head.appendChild(datatableScript);\n",
       "          };\n",
       "          document.head.appendChild(jqueryScript);\n",
       "        } else {\n",
       "          window.interactive_beam_jquery(document).ready(function($){\n",
       "            \n",
       "          });\n",
       "        }"
      ]
     },
     "metadata": {},
     "output_type": "display_data"
    },
    {
     "name": "stderr",
     "output_type": "stream",
     "text": [
      "WARNING:root:Make sure that locally built Python SDK docker image has Python 3.8 interpreter.\n",
      "WARNING:apache_beam.io.tfrecordio:Couldn't find python-snappy so the implementation of _TFRecordUtil._masked_crc32c is not as fast as it could be.\n"
     ]
    },
    {
     "name": "stdout",
     "output_type": "stream",
     "text": [
      "WARNING:tensorflow:From c:\\users\\sanmilee\\appdata\\local\\programs\\python\\python38\\lib\\site-packages\\tensorflow_data_validation\\utils\\statistics_io_impl.py:100: tf_record_iterator (from tensorflow.python.lib.io.tf_record) is deprecated and will be removed in a future version.\n",
      "Instructions for updating:\n",
      "Use eager execution and: \n",
      "`tf.data.TFRecordDataset(path)`\n"
     ]
    },
    {
     "name": "stderr",
     "output_type": "stream",
     "text": [
      "WARNING:tensorflow:From c:\\users\\sanmilee\\appdata\\local\\programs\\python\\python38\\lib\\site-packages\\tensorflow_data_validation\\utils\\statistics_io_impl.py:100: tf_record_iterator (from tensorflow.python.lib.io.tf_record) is deprecated and will be removed in a future version.\n",
      "Instructions for updating:\n",
      "Use eager execution and: \n",
      "`tf.data.TFRecordDataset(path)`\n"
     ]
    },
    {
     "data": {
      "text/html": [
       "<iframe id='facets-iframe' width=\"100%\" height=\"500px\"></iframe>\n",
       "        <script>\n",
       "        facets_iframe = document.getElementById('facets-iframe');\n",
       "        facets_html = '<script src=\"https://cdnjs.cloudflare.com/ajax/libs/webcomponentsjs/1.3.3/webcomponents-lite.js\"><\\/script><link rel=\"import\" href=\"https://raw.githubusercontent.com/PAIR-code/facets/master/facets-dist/facets-jupyter.html\"><facets-overview proto-input=\"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\"></facets-overview>';\n",
       "        facets_iframe.srcdoc = facets_html;\n",
       "         facets_iframe.id = \"\";\n",
       "         setTimeout(() => {\n",
       "           facets_iframe.setAttribute('height', facets_iframe.contentWindow.document.body.offsetHeight + 'px')\n",
       "         }, 1500)\n",
       "         </script>"
      ],
      "text/plain": [
       "<IPython.core.display.HTML object>"
      ]
     },
     "metadata": {},
     "output_type": "display_data"
    }
   ],
   "source": [
    "train_stats = tfdv.generate_statistics_from_csv(data_location=TRAIN_DATA)\n",
    "\n",
    "\n",
    "tfdv.visualize_statistics(train_stats)\n"
   ]
  },
  {
   "cell_type": "markdown",
   "id": "1e0fee27",
   "metadata": {},
   "source": [
    "#### Compute `StatisticsGen`  stats for Eval data"
   ]
  },
  {
   "cell_type": "code",
   "execution_count": 6,
   "id": "64b4c684",
   "metadata": {},
   "outputs": [
    {
     "name": "stderr",
     "output_type": "stream",
     "text": [
      "WARNING:root:Make sure that locally built Python SDK docker image has Python 3.8 interpreter.\n"
     ]
    },
    {
     "data": {
      "text/html": [
       "<iframe id='facets-iframe' width=\"100%\" height=\"500px\"></iframe>\n",
       "        <script>\n",
       "        facets_iframe = document.getElementById('facets-iframe');\n",
       "        facets_html = '<script src=\"https://cdnjs.cloudflare.com/ajax/libs/webcomponentsjs/1.3.3/webcomponents-lite.js\"><\\/script><link rel=\"import\" href=\"https://raw.githubusercontent.com/PAIR-code/facets/master/facets-dist/facets-jupyter.html\"><facets-overview proto-input=\"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\"></facets-overview>';\n",
       "        facets_iframe.srcdoc = facets_html;\n",
       "         facets_iframe.id = \"\";\n",
       "         setTimeout(() => {\n",
       "           facets_iframe.setAttribute('height', facets_iframe.contentWindow.document.body.offsetHeight + 'px')\n",
       "         }, 1500)\n",
       "         </script>"
      ],
      "text/plain": [
       "<IPython.core.display.HTML object>"
      ]
     },
     "metadata": {},
     "output_type": "display_data"
    }
   ],
   "source": [
    "# for eval data\n",
    "eval_stats = tfdv.generate_statistics_from_csv(data_location=EVAL_DATA)\n",
    "\n",
    "tfdv.visualize_statistics(eval_stats)\n"
   ]
  },
  {
   "cell_type": "markdown",
   "id": "f126b166",
   "metadata": {},
   "source": [
    "#### Compare `Train` & `Eval` data\n"
   ]
  },
  {
   "cell_type": "code",
   "execution_count": 7,
   "id": "c14ae315",
   "metadata": {},
   "outputs": [
    {
     "data": {
      "text/html": [
       "<iframe id='facets-iframe' width=\"100%\" height=\"500px\"></iframe>\n",
       "        <script>\n",
       "        facets_iframe = document.getElementById('facets-iframe');\n",
       "        facets_html = '<script src=\"https://cdnjs.cloudflare.com/ajax/libs/webcomponentsjs/1.3.3/webcomponents-lite.js\"><\\/script><link rel=\"import\" href=\"https://raw.githubusercontent.com/PAIR-code/facets/master/facets-dist/facets-jupyter.html\"><facets-overview proto-input=\"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\"></facets-overview>';\n",
       "        facets_iframe.srcdoc = facets_html;\n",
       "         facets_iframe.id = \"\";\n",
       "         setTimeout(() => {\n",
       "           facets_iframe.setAttribute('height', facets_iframe.contentWindow.document.body.offsetHeight + 'px')\n",
       "         }, 1500)\n",
       "         </script>"
      ],
      "text/plain": [
       "<IPython.core.display.HTML object>"
      ]
     },
     "metadata": {},
     "output_type": "display_data"
    }
   ],
   "source": [
    "tfdv.visualize_statistics(lhs_statistics=train_stats, rhs_statistics=eval_stats,\n",
    "                          lhs_name='TRAIN_DATASET', rhs_name='EVAL_DATASET')\n"
   ]
  },
  {
   "cell_type": "markdown",
   "id": "0494ae4d",
   "metadata": {},
   "source": [
    "### <font color='blue'> SchemaGen </font>\n",
    "- Its generates the description of the input data - schema. \n",
    "- Automatically generates a schema by inferring types, categories, and ranges from the training data.\n",
    "- The schema is an instance of schema.proto (Data schema proto). "
   ]
  },
  {
   "cell_type": "code",
   "execution_count": 8,
   "id": "2027bc9a",
   "metadata": {},
   "outputs": [
    {
     "data": {
      "text/html": [
       "<div>\n",
       "<style scoped>\n",
       "    .dataframe tbody tr th:only-of-type {\n",
       "        vertical-align: middle;\n",
       "    }\n",
       "\n",
       "    .dataframe tbody tr th {\n",
       "        vertical-align: top;\n",
       "    }\n",
       "\n",
       "    .dataframe thead th {\n",
       "        text-align: right;\n",
       "    }\n",
       "</style>\n",
       "<table border=\"1\" class=\"dataframe\">\n",
       "  <thead>\n",
       "    <tr style=\"text-align: right;\">\n",
       "      <th></th>\n",
       "      <th>Type</th>\n",
       "      <th>Presence</th>\n",
       "      <th>Valency</th>\n",
       "      <th>Domain</th>\n",
       "    </tr>\n",
       "    <tr>\n",
       "      <th>Feature name</th>\n",
       "      <th></th>\n",
       "      <th></th>\n",
       "      <th></th>\n",
       "      <th></th>\n",
       "    </tr>\n",
       "  </thead>\n",
       "  <tbody>\n",
       "    <tr>\n",
       "      <th>'pickup_community_area'</th>\n",
       "      <td>INT</td>\n",
       "      <td>required</td>\n",
       "      <td></td>\n",
       "      <td>-</td>\n",
       "    </tr>\n",
       "    <tr>\n",
       "      <th>'fare'</th>\n",
       "      <td>FLOAT</td>\n",
       "      <td>required</td>\n",
       "      <td></td>\n",
       "      <td>-</td>\n",
       "    </tr>\n",
       "    <tr>\n",
       "      <th>'trip_start_month'</th>\n",
       "      <td>INT</td>\n",
       "      <td>required</td>\n",
       "      <td></td>\n",
       "      <td>-</td>\n",
       "    </tr>\n",
       "    <tr>\n",
       "      <th>'trip_start_hour'</th>\n",
       "      <td>INT</td>\n",
       "      <td>required</td>\n",
       "      <td></td>\n",
       "      <td>-</td>\n",
       "    </tr>\n",
       "    <tr>\n",
       "      <th>'trip_start_day'</th>\n",
       "      <td>INT</td>\n",
       "      <td>required</td>\n",
       "      <td></td>\n",
       "      <td>-</td>\n",
       "    </tr>\n",
       "    <tr>\n",
       "      <th>'trip_start_timestamp'</th>\n",
       "      <td>INT</td>\n",
       "      <td>required</td>\n",
       "      <td></td>\n",
       "      <td>-</td>\n",
       "    </tr>\n",
       "    <tr>\n",
       "      <th>'pickup_latitude'</th>\n",
       "      <td>FLOAT</td>\n",
       "      <td>required</td>\n",
       "      <td></td>\n",
       "      <td>-</td>\n",
       "    </tr>\n",
       "    <tr>\n",
       "      <th>'pickup_longitude'</th>\n",
       "      <td>FLOAT</td>\n",
       "      <td>required</td>\n",
       "      <td></td>\n",
       "      <td>-</td>\n",
       "    </tr>\n",
       "    <tr>\n",
       "      <th>'dropoff_latitude'</th>\n",
       "      <td>FLOAT</td>\n",
       "      <td>optional</td>\n",
       "      <td>single</td>\n",
       "      <td>-</td>\n",
       "    </tr>\n",
       "    <tr>\n",
       "      <th>'dropoff_longitude'</th>\n",
       "      <td>FLOAT</td>\n",
       "      <td>optional</td>\n",
       "      <td>single</td>\n",
       "      <td>-</td>\n",
       "    </tr>\n",
       "    <tr>\n",
       "      <th>'trip_miles'</th>\n",
       "      <td>FLOAT</td>\n",
       "      <td>required</td>\n",
       "      <td></td>\n",
       "      <td>-</td>\n",
       "    </tr>\n",
       "    <tr>\n",
       "      <th>'pickup_census_tract'</th>\n",
       "      <td>BYTES</td>\n",
       "      <td>optional</td>\n",
       "      <td></td>\n",
       "      <td>-</td>\n",
       "    </tr>\n",
       "    <tr>\n",
       "      <th>'dropoff_census_tract'</th>\n",
       "      <td>INT</td>\n",
       "      <td>optional</td>\n",
       "      <td>single</td>\n",
       "      <td>-</td>\n",
       "    </tr>\n",
       "    <tr>\n",
       "      <th>'payment_type'</th>\n",
       "      <td>STRING</td>\n",
       "      <td>required</td>\n",
       "      <td></td>\n",
       "      <td>'payment_type'</td>\n",
       "    </tr>\n",
       "    <tr>\n",
       "      <th>'company'</th>\n",
       "      <td>STRING</td>\n",
       "      <td>optional</td>\n",
       "      <td>single</td>\n",
       "      <td>'company'</td>\n",
       "    </tr>\n",
       "    <tr>\n",
       "      <th>'trip_seconds'</th>\n",
       "      <td>INT</td>\n",
       "      <td>required</td>\n",
       "      <td></td>\n",
       "      <td>-</td>\n",
       "    </tr>\n",
       "    <tr>\n",
       "      <th>'dropoff_community_area'</th>\n",
       "      <td>INT</td>\n",
       "      <td>optional</td>\n",
       "      <td>single</td>\n",
       "      <td>-</td>\n",
       "    </tr>\n",
       "    <tr>\n",
       "      <th>'tips'</th>\n",
       "      <td>FLOAT</td>\n",
       "      <td>required</td>\n",
       "      <td></td>\n",
       "      <td>-</td>\n",
       "    </tr>\n",
       "  </tbody>\n",
       "</table>\n",
       "</div>"
      ],
      "text/plain": [
       "                            Type  Presence Valency          Domain\n",
       "Feature name                                                      \n",
       "'pickup_community_area'      INT  required                       -\n",
       "'fare'                     FLOAT  required                       -\n",
       "'trip_start_month'           INT  required                       -\n",
       "'trip_start_hour'            INT  required                       -\n",
       "'trip_start_day'             INT  required                       -\n",
       "'trip_start_timestamp'       INT  required                       -\n",
       "'pickup_latitude'          FLOAT  required                       -\n",
       "'pickup_longitude'         FLOAT  required                       -\n",
       "'dropoff_latitude'         FLOAT  optional  single               -\n",
       "'dropoff_longitude'        FLOAT  optional  single               -\n",
       "'trip_miles'               FLOAT  required                       -\n",
       "'pickup_census_tract'      BYTES  optional                       -\n",
       "'dropoff_census_tract'       INT  optional  single               -\n",
       "'payment_type'            STRING  required          'payment_type'\n",
       "'company'                 STRING  optional  single       'company'\n",
       "'trip_seconds'               INT  required                       -\n",
       "'dropoff_community_area'     INT  optional  single               -\n",
       "'tips'                     FLOAT  required                       -"
      ]
     },
     "metadata": {},
     "output_type": "display_data"
    },
    {
     "data": {
      "text/html": [
       "<div>\n",
       "<style scoped>\n",
       "    .dataframe tbody tr th:only-of-type {\n",
       "        vertical-align: middle;\n",
       "    }\n",
       "\n",
       "    .dataframe tbody tr th {\n",
       "        vertical-align: top;\n",
       "    }\n",
       "\n",
       "    .dataframe thead th {\n",
       "        text-align: right;\n",
       "    }\n",
       "</style>\n",
       "<table border=\"1\" class=\"dataframe\">\n",
       "  <thead>\n",
       "    <tr style=\"text-align: right;\">\n",
       "      <th></th>\n",
       "      <th>Values</th>\n",
       "    </tr>\n",
       "    <tr>\n",
       "      <th>Domain</th>\n",
       "      <th></th>\n",
       "    </tr>\n",
       "  </thead>\n",
       "  <tbody>\n",
       "    <tr>\n",
       "      <th>'payment_type'</th>\n",
       "      <td>'Cash', 'Credit Card', 'Dispute', 'No Charge', 'Pcard', 'Unknown'</td>\n",
       "    </tr>\n",
       "    <tr>\n",
       "      <th>'company'</th>\n",
       "      <td>'0118 - 42111 Godfrey S.Awir', '0694 - 59280 Chinesco Trans Inc', '1085 - 72312 N and W Cab Co', '2733 - 74600 Benny Jona', '2809 - 95474 C &amp; D Cab Co Inc.', '3011 - 66308 JBL Cab Inc.', '3152 - 97284 Crystal Abernathy', '3201 - C&amp;D Cab Co Inc', '3201 - CID Cab Co Inc', '3253 - 91138 Gaither Cab Co.', '3385 - 23210 Eman Cab', '3623 - 72222 Arrington Enterprises', '3897 - Ilie Malec', '4053 - Adwar H. Nikola', '4197 - 41842 Royal Star', '4615 - 83503 Tyrone Henderson', '4615 - Tyrone Henderson', '4623 - Jay Kim', '5006 - 39261 Salifu Bawa', '5006 - Salifu Bawa', '5074 - 54002 Ahzmi Inc', '5074 - Ahzmi Inc', '5129 - 87128', '5129 - 98755 Mengisti Taxi', '5129 - Mengisti Taxi', '5724 - KYVI Cab Inc', '585 - Valley Cab Co', '5864 - 73614 Thomas Owusu', '5864 - Thomas Owusu', '5874 - 73628 Sergey Cab Corp.', '5997 - 65283 AW Services Inc.', '5997 - AW Services Inc.', '6488 - 83287 Zuha Taxi', '6743 - Luhak Corp', 'Blue Ribbon Taxi Association Inc.', 'C &amp; D Cab Co Inc', 'Chicago Elite Cab Corp.', 'Chicago Elite Cab Corp. (Chicago Carriag', 'Chicago Medallion Leasing INC', 'Chicago Medallion Management', 'Choice Taxi Association', 'Dispatch Taxi Affiliation', 'KOAM Taxi Association', 'Northwest Management LLC', 'Taxi Affiliation Services', 'Top Cab Affiliation'</td>\n",
       "    </tr>\n",
       "  </tbody>\n",
       "</table>\n",
       "</div>"
      ],
      "text/plain": [
       "                                                                                                                                                                                                                                                                                                                                                                                                                                                                                                                                                                                                                                                                                                                                                                                                                                                                                                                                                                                                                                                                                                                                                                                                                                                                                                                                    Values\n",
       "Domain                                                                                                                                                                                                                                                                                                                                                                                                                                                                                                                                                                                                                                                                                                                                                                                                                                                                                                                                                                                                                                                                                                                                                                                                                                                                                                                                    \n",
       "'payment_type'                                                                                                                                                                                                                                                                                                                                                                                                                                                                                                                                                                                                                                                                                                                                                                                                                                                                                                                                                                                                                                                                                                                                                                                                                                                           'Cash', 'Credit Card', 'Dispute', 'No Charge', 'Pcard', 'Unknown'\n",
       "'company'       '0118 - 42111 Godfrey S.Awir', '0694 - 59280 Chinesco Trans Inc', '1085 - 72312 N and W Cab Co', '2733 - 74600 Benny Jona', '2809 - 95474 C & D Cab Co Inc.', '3011 - 66308 JBL Cab Inc.', '3152 - 97284 Crystal Abernathy', '3201 - C&D Cab Co Inc', '3201 - CID Cab Co Inc', '3253 - 91138 Gaither Cab Co.', '3385 - 23210 Eman Cab', '3623 - 72222 Arrington Enterprises', '3897 - Ilie Malec', '4053 - Adwar H. Nikola', '4197 - 41842 Royal Star', '4615 - 83503 Tyrone Henderson', '4615 - Tyrone Henderson', '4623 - Jay Kim', '5006 - 39261 Salifu Bawa', '5006 - Salifu Bawa', '5074 - 54002 Ahzmi Inc', '5074 - Ahzmi Inc', '5129 - 87128', '5129 - 98755 Mengisti Taxi', '5129 - Mengisti Taxi', '5724 - KYVI Cab Inc', '585 - Valley Cab Co', '5864 - 73614 Thomas Owusu', '5864 - Thomas Owusu', '5874 - 73628 Sergey Cab Corp.', '5997 - 65283 AW Services Inc.', '5997 - AW Services Inc.', '6488 - 83287 Zuha Taxi', '6743 - Luhak Corp', 'Blue Ribbon Taxi Association Inc.', 'C & D Cab Co Inc', 'Chicago Elite Cab Corp.', 'Chicago Elite Cab Corp. (Chicago Carriag', 'Chicago Medallion Leasing INC', 'Chicago Medallion Management', 'Choice Taxi Association', 'Dispatch Taxi Affiliation', 'KOAM Taxi Association', 'Northwest Management LLC', 'Taxi Affiliation Services', 'Top Cab Affiliation'"
      ]
     },
     "metadata": {},
     "output_type": "display_data"
    }
   ],
   "source": [
    "schema = tfdv.infer_schema(statistics=train_stats)\n",
    "\n",
    "tfdv.display_schema(schema=schema)"
   ]
  },
  {
   "cell_type": "markdown",
   "id": "f5ae72de",
   "metadata": {},
   "source": [
    "### <font color='blue'> 4 - ExampleValidator </font>\n",
    "- The ExampleValidator component detects anomalies in data, based on the expectations defined by the schema.\n",
    "- ExampleValidator takes as input the statistics from StatisticsGen, and the schema from SchemaGen.\n",
    "- Also checks for anomalies such as if evaluation dataset match the schema from training dataset\n",
    "- This is especially important for categorical features, where we want to identify the range of acceptable values.\n"
   ]
  },
  {
   "cell_type": "code",
   "execution_count": 9,
   "id": "7cb3bc03",
   "metadata": {},
   "outputs": [
    {
     "data": {
      "text/html": [
       "<div>\n",
       "<style scoped>\n",
       "    .dataframe tbody tr th:only-of-type {\n",
       "        vertical-align: middle;\n",
       "    }\n",
       "\n",
       "    .dataframe tbody tr th {\n",
       "        vertical-align: top;\n",
       "    }\n",
       "\n",
       "    .dataframe thead th {\n",
       "        text-align: right;\n",
       "    }\n",
       "</style>\n",
       "<table border=\"1\" class=\"dataframe\">\n",
       "  <thead>\n",
       "    <tr style=\"text-align: right;\">\n",
       "      <th></th>\n",
       "      <th>Anomaly short description</th>\n",
       "      <th>Anomaly long description</th>\n",
       "    </tr>\n",
       "    <tr>\n",
       "      <th>Feature name</th>\n",
       "      <th></th>\n",
       "      <th></th>\n",
       "    </tr>\n",
       "  </thead>\n",
       "  <tbody>\n",
       "    <tr>\n",
       "      <th>'payment_type'</th>\n",
       "      <td>Unexpected string values</td>\n",
       "      <td>Examples contain values missing from the schema: Prcard (&lt;1%).</td>\n",
       "    </tr>\n",
       "    <tr>\n",
       "      <th>'company'</th>\n",
       "      <td>Unexpected string values</td>\n",
       "      <td>Examples contain values missing from the schema: 2092 - 61288 Sbeih company (&lt;1%), 2192 - 73487 Zeymane Corp (&lt;1%), 2192 - Zeymane Corp (&lt;1%), 2823 - 73307 Seung Lee (&lt;1%), 3094 - 24059 G.L.B. Cab Co (&lt;1%), 3319 - CD Cab Co (&lt;1%), 3385 - Eman Cab (&lt;1%), 3897 - 57856 Ilie Malec (&lt;1%), 4053 - 40193 Adwar H. Nikola (&lt;1%), 4197 - Royal Star (&lt;1%), 585 - 88805 Valley Cab Co (&lt;1%), 5874 - Sergey Cab Corp. (&lt;1%), 6057 - 24657 Richard Addo (&lt;1%), 6574 - Babylon Express Inc. (&lt;1%), 6742 - 83735 Tasha ride inc (&lt;1%).</td>\n",
       "    </tr>\n",
       "  </tbody>\n",
       "</table>\n",
       "</div>"
      ],
      "text/plain": [
       "               Anomaly short description  \\\n",
       "Feature name                               \n",
       "'payment_type'  Unexpected string values   \n",
       "'company'       Unexpected string values   \n",
       "\n",
       "                                                                                                                                                                                                                                                                                                                                                                                                                                                                                                                         Anomaly long description  \n",
       "Feature name                                                                                                                                                                                                                                                                                                                                                                                                                                                                                                                                       \n",
       "'payment_type'                                                                                                                                                                                                                                                                                                                                                                                                                                                                    Examples contain values missing from the schema: Prcard (<1%).   \n",
       "'company'       Examples contain values missing from the schema: 2092 - 61288 Sbeih company (<1%), 2192 - 73487 Zeymane Corp (<1%), 2192 - Zeymane Corp (<1%), 2823 - 73307 Seung Lee (<1%), 3094 - 24059 G.L.B. Cab Co (<1%), 3319 - CD Cab Co (<1%), 3385 - Eman Cab (<1%), 3897 - 57856 Ilie Malec (<1%), 4053 - 40193 Adwar H. Nikola (<1%), 4197 - Royal Star (<1%), 585 - 88805 Valley Cab Co (<1%), 5874 - Sergey Cab Corp. (<1%), 6057 - 24657 Richard Addo (<1%), 6574 - Babylon Express Inc. (<1%), 6742 - 83735 Tasha ride inc (<1%).   "
      ]
     },
     "metadata": {},
     "output_type": "display_data"
    }
   ],
   "source": [
    "# Check eval data for errors by validating the eval data stats using the previously inferred schema.\n",
    "# Anomaly detected - some new values in eval data, not in training data. (payment_type: Prcard) \n",
    "\n",
    "anomalies = tfdv.validate_statistics(statistics=eval_stats, schema=schema)\n",
    "\n",
    "tfdv.display_anomalies(anomalies)"
   ]
  },
  {
   "cell_type": "markdown",
   "id": "cfcdf394",
   "metadata": {},
   "source": [
    "#### Examine differences in training data vs eval data"
   ]
  },
  {
   "cell_type": "code",
   "execution_count": 10,
   "id": "f4f74926",
   "metadata": {},
   "outputs": [
    {
     "name": "stdout",
     "output_type": "stream",
     "text": [
      "['Cash' 'Credit Card' 'No Charge' 'Unknown' 'Dispute' 'Pcard']\n"
     ]
    }
   ],
   "source": [
    "# train data\n",
    "training_data_df = pd.read_csv(TRAIN_DATA)\n",
    "\n",
    "# Find unique values of 'payment_type' column\n",
    "print(training_data_df['payment_type'].unique())"
   ]
  },
  {
   "cell_type": "code",
   "execution_count": 12,
   "id": "7fa07751",
   "metadata": {},
   "outputs": [
    {
     "name": "stdout",
     "output_type": "stream",
     "text": [
      "['Cash' 'Credit Card' 'Dispute' 'No Charge' 'Unknown' 'Prcard' 'Pcard']\n"
     ]
    }
   ],
   "source": [
    "# eval data\n",
    "eval_data_df = pd.read_csv(EVAL_DATA)\n",
    "\n",
    "# Find unique values of 'payment_type' column\n",
    "print(eval_data_df['payment_type'].unique())"
   ]
  },
  {
   "cell_type": "markdown",
   "id": "027da4ff",
   "metadata": {},
   "source": [
    "## `Anomalies Correction with - ExampleValidator` \n",
    "Problem:\n",
    "- With the anomaliy in the Eval data (payment_type: Prcard) \n",
    "***\n",
    "Solution:\n",
    "- Add new value to the domain of feature (payment_type)"
   ]
  },
  {
   "cell_type": "code",
   "execution_count": 14,
   "id": "55c4dc0e",
   "metadata": {},
   "outputs": [],
   "source": [
    "# Add new value to the domain of feature 'payment_type'.\n",
    "payment_type_domain = tfdv.get_domain(schema, 'payment_type')\n",
    "payment_type_domain.value.append('Prcard')\n",
    "\n",
    "\n",
    "# Relax the minimum fraction of values that must come from the domain for the feature 'company'.\n",
    "company = tfdv.get_feature(schema, 'company')\n",
    "company.distribution_constraints.min_domain_mass = 0.9"
   ]
  },
  {
   "cell_type": "code",
   "execution_count": 15,
   "id": "43fc9f46",
   "metadata": {},
   "outputs": [
    {
     "data": {
      "text/html": [
       "<h4 style=\"color:green;\">No anomalies found.</h4>"
      ],
      "text/plain": [
       "<IPython.core.display.HTML object>"
      ]
     },
     "metadata": {},
     "output_type": "display_data"
    }
   ],
   "source": [
    "# Validate eval stats after updating the schema \n",
    "updated_anomalies = tfdv.validate_statistics(eval_stats, schema)\n",
    "tfdv.display_anomalies(updated_anomalies)"
   ]
  },
  {
   "cell_type": "markdown",
   "id": "8f3db190",
   "metadata": {},
   "source": [
    "## Check for anomaly in Train/Serving Environments"
   ]
  },
  {
   "cell_type": "code",
   "execution_count": 16,
   "id": "f56840ae",
   "metadata": {},
   "outputs": [
    {
     "name": "stderr",
     "output_type": "stream",
     "text": [
      "WARNING:root:Make sure that locally built Python SDK docker image has Python 3.8 interpreter.\n"
     ]
    },
    {
     "data": {
      "text/html": [
       "<div>\n",
       "<style scoped>\n",
       "    .dataframe tbody tr th:only-of-type {\n",
       "        vertical-align: middle;\n",
       "    }\n",
       "\n",
       "    .dataframe tbody tr th {\n",
       "        vertical-align: top;\n",
       "    }\n",
       "\n",
       "    .dataframe thead th {\n",
       "        text-align: right;\n",
       "    }\n",
       "</style>\n",
       "<table border=\"1\" class=\"dataframe\">\n",
       "  <thead>\n",
       "    <tr style=\"text-align: right;\">\n",
       "      <th></th>\n",
       "      <th>Anomaly short description</th>\n",
       "      <th>Anomaly long description</th>\n",
       "    </tr>\n",
       "    <tr>\n",
       "      <th>Feature name</th>\n",
       "      <th></th>\n",
       "      <th></th>\n",
       "    </tr>\n",
       "  </thead>\n",
       "  <tbody>\n",
       "    <tr>\n",
       "      <th>'tips'</th>\n",
       "      <td>Column dropped</td>\n",
       "      <td>Column is completely missing</td>\n",
       "    </tr>\n",
       "  </tbody>\n",
       "</table>\n",
       "</div>"
      ],
      "text/plain": [
       "             Anomaly short description      Anomaly long description\n",
       "Feature name                                                        \n",
       "'tips'                  Column dropped  Column is completely missing"
      ]
     },
     "metadata": {},
     "output_type": "display_data"
    }
   ],
   "source": [
    "# Generate statistics for serving data with StatisticsGen\n",
    "serving_stats = tfdv.generate_statistics_from_csv(SERVING_DATA)\n",
    "serving_anomalies = tfdv.validate_statistics(serving_stats, schema)\n",
    "\n",
    "tfdv.display_anomalies(serving_anomalies)"
   ]
  },
  {
   "cell_type": "markdown",
   "id": "0211350d",
   "metadata": {},
   "source": [
    "#### Serving Data Probelem\n",
    "- The label column (tips) showing up as an anomaly, \n",
    "\n",
    "#### Solution:\n",
    "- Tell TFDV to ignore that column in serving env."
   ]
  },
  {
   "cell_type": "code",
   "execution_count": 17,
   "id": "cbcf4a35",
   "metadata": {},
   "outputs": [
    {
     "data": {
      "text/html": [
       "<h4 style=\"color:green;\">No anomalies found.</h4>"
      ],
      "text/plain": [
       "<IPython.core.display.HTML object>"
      ]
     },
     "metadata": {},
     "output_type": "display_data"
    }
   ],
   "source": [
    "# All features are by default in both TRAINING and SERVING environments.\n",
    "schema.default_environment.append('TRAINING')\n",
    "schema.default_environment.append('SERVING')\n",
    "\n",
    "\n",
    "# Specify that 'tips' feature is not in SERVING environment.\n",
    "tfdv.get_feature(schema, 'tips').not_in_environment.append('SERVING')\n",
    "\n",
    "\n",
    "serving_anomalies_with_env = tfdv.validate_statistics(\n",
    "            serving_stats, schema, environment='SERVING')\n",
    "\n",
    "\n",
    "tfdv.display_anomalies(serving_anomalies_with_env)"
   ]
  },
  {
   "cell_type": "markdown",
   "id": "acbde027",
   "metadata": {},
   "source": [
    "## Check for `drift` and `skew`\n",
    "- TFDV performs this check by comparing the statistics of the different datasets based on the drift/skew comparators specified in the schema.\n",
    "***\n",
    "##### Drift: \n",
    "- Drift detection is supported for categorical features and between consecutive spans of data (i.e., between span N and span N+1), such as between different days of training data. \n",
    "- We express drift in terms of L-infinity distance, and you can set the threshold distance so that you receive warnings when the drift is higher than is acceptable. \n",
    "\n",
    "##### Skew:\n",
    "- TFDV can detect three different kinds of skew in your data - `schema skew`, `feature skew`, and `distribution skew`.\n",
    "\n",
    " "
   ]
  },
  {
   "cell_type": "code",
   "execution_count": 18,
   "id": "b2a8448f",
   "metadata": {},
   "outputs": [
    {
     "data": {
      "text/html": [
       "<h4 style=\"color:green;\">No anomalies found.</h4>"
      ],
      "text/plain": [
       "<IPython.core.display.HTML object>"
      ]
     },
     "metadata": {},
     "output_type": "display_data"
    }
   ],
   "source": [
    "# Compare all 3 schemas (train, eval & serving) now - after correction is done\n",
    "skew_anomalies = tfdv.validate_statistics(train_stats, schema,\n",
    "                                          previous_statistics=eval_stats,\n",
    "                                          serving_statistics=serving_stats)\n",
    "\n",
    "\n",
    "\n",
    "tfdv.display_anomalies(skew_anomalies)"
   ]
  },
  {
   "cell_type": "markdown",
   "id": "1527d070",
   "metadata": {},
   "source": [
    "### Freeze the schema\n",
    "\n",
    "- Now that the schema has been reviewed and curated, we will store it in a file to reflect its \"frozen\" state."
   ]
  },
  {
   "cell_type": "code",
   "execution_count": 19,
   "id": "6586be2f",
   "metadata": {},
   "outputs": [],
   "source": [
    "from tensorflow.python.lib.io import file_io\n",
    "from google.protobuf import text_format"
   ]
  },
  {
   "cell_type": "code",
   "execution_count": 20,
   "id": "5c6916f3",
   "metadata": {},
   "outputs": [],
   "source": [
    "file_io.recursive_create_dir(OUTPUT_DIR)\n",
    "schema_file = os.path.join(OUTPUT_DIR, 'schema.pbtxt')\n",
    "tfdv.write_schema_text(schema, schema_file)"
   ]
  },
  {
   "cell_type": "code",
   "execution_count": null,
   "id": "175c1be8",
   "metadata": {},
   "outputs": [],
   "source": []
  },
  {
   "cell_type": "code",
   "execution_count": null,
   "id": "f31f0c5d",
   "metadata": {},
   "outputs": [],
   "source": []
  }
 ],
 "metadata": {
  "kernelspec": {
   "display_name": "Python 3 (ipykernel)",
   "language": "python",
   "name": "python3"
  },
  "language_info": {
   "codemirror_mode": {
    "name": "ipython",
    "version": 3
   },
   "file_extension": ".py",
   "mimetype": "text/x-python",
   "name": "python",
   "nbconvert_exporter": "python",
   "pygments_lexer": "ipython3",
   "version": "3.8.0"
  }
 },
 "nbformat": 4,
 "nbformat_minor": 5
}
